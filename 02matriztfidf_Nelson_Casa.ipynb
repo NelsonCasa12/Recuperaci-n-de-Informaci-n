{
  "cells": [
    {
      "cell_type": "markdown",
      "id": "ee4c83d1e3aa3ae1",
      "metadata": {
        "id": "ee4c83d1e3aa3ae1"
      },
      "source": [
        "# Ejercicio 2: Modelo Vectorial y TF-IDF\n",
        "**Nombre:** Nelson Casa\n",
        "\n",
        "## Objetivo de la práctica\n",
        "\n",
        "- Comprender el modelo vectorial como base para representar documentos y consultas.\n",
        "- Calcular la matriz TF-IDF para el corpus `data/01_corpus_turismo_500.txt`"
      ]
    },
    {
      "cell_type": "markdown",
      "id": "FQXBvZK6dmaU",
      "metadata": {
        "id": "FQXBvZK6dmaU"
      },
      "source": [
        "## Procedimiento\n",
        "\n",
        "### 1. Cargar el corpus"
      ]
    },
    {
      "cell_type": "code",
      "execution_count": 6,
      "id": "initial_id",
      "metadata": {
        "colab": {
          "base_uri": "https://localhost:8080/"
        },
        "collapsed": true,
        "id": "initial_id",
        "outputId": "5e51a9b0-ffd8-4965-dc63-83ae47bd67aa"
      },
      "outputs": [
        {
          "name": "stdout",
          "output_type": "stream",
          "text": [
            "Número de documentos en el corpus: 500\n",
            "Ejemplo de documento:\n",
            " Otavalo es conocido por su mercado indígena y su artesanía Perfecto para rafting.\n",
            "\n"
          ]
        }
      ],
      "source": [
        "# Cargamos el archivo del corpus (asegurándonos que la ruta exista en tu entorno Jupyter)\n",
        "with open(\"/content/01_corpus_turismo_500.txt\", \"r\", encoding=\"utf-8\") as file:\n",
        "    corpus = file.readlines()\n",
        "\n",
        "print(\"Número de documentos en el corpus:\", len(corpus))\n",
        "print(\"Ejemplo de documento:\\n\", corpus[0][:200])\n"
      ]
    },
    {
      "cell_type": "markdown",
      "id": "QEH7AdpaeVJ1",
      "metadata": {
        "id": "QEH7AdpaeVJ1"
      },
      "source": [
        "### 2. Preprocesamiento del texto\n",
        "Convertir todo a minúsculas, eliminar signos de puntuación y tokenizar palabra por palabra.\n"
      ]
    },
    {
      "cell_type": "code",
      "execution_count": 7,
      "id": "PgnTSi2Ler-T",
      "metadata": {
        "colab": {
          "base_uri": "https://localhost:8080/"
        },
        "id": "PgnTSi2Ler-T",
        "outputId": "43cd78e1-4178-45f5-ef57-2874bd50569c"
      },
      "outputs": [
        {
          "name": "stdout",
          "output_type": "stream",
          "text": [
            "\n",
            "Ejemplo de tokens del primer documento:\n",
            "['otavalo', 'es', 'conocido', 'por', 'su', 'mercado', 'indígena', 'y', 'su', 'artesanía', 'perfecto', 'para', 'rafting']\n"
          ]
        }
      ],
      "source": [
        "import string\n",
        "\n",
        "def limpiar_texto(texto):\n",
        "    texto = texto.lower()\n",
        "    texto = ''.join([c for c in texto if c.isalpha() or c.isspace()])\n",
        "    return texto\n",
        "\n",
        "documentos_limpios = [limpiar_texto(doc) for doc in corpus]\n",
        "tokens_por_doc = [doc.split() for doc in documentos_limpios]\n",
        "\n",
        "print(\"\\nEjemplo de tokens del primer documento:\")\n",
        "print(tokens_por_doc[0][:20])"
      ]
    },
    {
      "cell_type": "markdown",
      "id": "9JsF7jYNfCe4",
      "metadata": {
        "id": "9JsF7jYNfCe4"
      },
      "source": [
        "### 3. Construir el diccionario de términos\n",
        "El diccionario estará formado solo por las palabras del corpus (sin usar listas externas)."
      ]
    },
    {
      "cell_type": "code",
      "execution_count": 8,
      "id": "uiXb07JBfENw",
      "metadata": {
        "colab": {
          "base_uri": "https://localhost:8080/"
        },
        "id": "uiXb07JBfENw",
        "outputId": "cf2527da-1ca5-456d-9c25-3b36127bb49e"
      },
      "outputs": [
        {
          "name": "stdout",
          "output_type": "stream",
          "text": [
            "\n",
            "Tamaño del diccionario: 117\n",
            "Primeras 20 palabras del diccionario:\n",
            " ['a', 'agua', 'amazonía', 'arquitectura', 'artesanía', 'atrae', 'atraen', 'auténtico', 'aventura', 'aves', 'avistamiento', 'baños', 'biodiversidad', 'cajas', 'caminatas', 'canopy', 'centro', 'colonial', 'color', 'como']\n"
          ]
        }
      ],
      "source": [
        "diccionario = sorted(list(set([palabra for doc in tokens_por_doc for palabra in doc])))\n",
        "print(\"\\nTamaño del diccionario:\", len(diccionario))\n",
        "print(\"Primeras 20 palabras del diccionario:\\n\", diccionario[:20])"
      ]
    },
    {
      "cell_type": "markdown",
      "id": "2jr_jekYfJBF",
      "metadata": {
        "id": "2jr_jekYfJBF"
      },
      "source": [
        "### 4. Cálculo de TF (Term Frequency)\n",
        "La frecuencia de término mide cuántas veces aparece una palabra en un documento."
      ]
    },
    {
      "cell_type": "code",
      "execution_count": 9,
      "id": "-qCKxq6YfL_5",
      "metadata": {
        "colab": {
          "base_uri": "https://localhost:8080/"
        },
        "id": "-qCKxq6YfL_5",
        "outputId": "89414d81-7e91-4c91-c231-55ea741b720c"
      },
      "outputs": [
        {
          "name": "stdout",
          "output_type": "stream",
          "text": [
            "\n",
            "Matriz TF creada con forma: (500, 117)\n",
            "Ejemplo TF del primer documento (primeras 10 posiciones):\n",
            "[0. 0. 0. 0. 1. 0. 0. 0. 0. 0.]\n"
          ]
        }
      ],
      "source": [
        "import numpy as np\n",
        "\n",
        "def calcular_tf(documento, diccionario):\n",
        "    tf = np.zeros(len(diccionario))\n",
        "    for palabra in documento:\n",
        "        if palabra in diccionario:\n",
        "            idx = diccionario.index(palabra)\n",
        "            tf[idx] += 1\n",
        "    return tf\n",
        "\n",
        "tf_matrix = np.array([calcular_tf(doc, diccionario) for doc in tokens_por_doc])\n",
        "\n",
        "print(\"\\nMatriz TF creada con forma:\", tf_matrix.shape)\n",
        "print(\"Ejemplo TF del primer documento (primeras 10 posiciones):\")\n",
        "print(tf_matrix[0][:10])"
      ]
    },
    {
      "cell_type": "markdown",
      "id": "rT4Ze10rfVy7",
      "metadata": {
        "id": "rT4Ze10rfVy7"
      },
      "source": [
        "### 5. Cálculo de IDF (Inverse Document Frequency)\n",
        "IDF mide la importancia de una palabra en el conjunto de documentos."
      ]
    },
    {
      "cell_type": "code",
      "execution_count": 10,
      "id": "5Fyodk03fXc4",
      "metadata": {
        "colab": {
          "base_uri": "https://localhost:8080/"
        },
        "id": "5Fyodk03fXc4",
        "outputId": "7d3b3f36-2f11-4206-fe4e-a1b17db59d68"
      },
      "outputs": [
        {
          "name": "stdout",
          "output_type": "stream",
          "text": [
            "\n",
            "IDF calculado. Ejemplo de primeros 10 valores:\n",
            "[2.11918641 2.18045606 2.25181197 2.15490196 2.16749109 2.25181197\n",
            " 2.16749109 2.55284197 2.18045606 2.04575749]\n"
          ]
        }
      ],
      "source": [
        "def calcular_idf(tf_matrix):\n",
        "    N = tf_matrix.shape[0]\n",
        "    df = np.sum(tf_matrix > 0, axis=0)\n",
        "    idf = np.log10(N / (df + 1)) + 1\n",
        "    return idf\n",
        "\n",
        "idf = calcular_idf(tf_matrix)\n",
        "\n",
        "print(\"\\nIDF calculado. Ejemplo de primeros 10 valores:\")\n",
        "print(idf[:10])"
      ]
    },
    {
      "cell_type": "markdown",
      "id": "3kPXyDU3fb2z",
      "metadata": {
        "id": "3kPXyDU3fb2z"
      },
      "source": [
        "### 6. Cálculo de la matriz TF-IDF\n",
        "Multiplicamos TF por IDF para obtener la ponderación final de cada término por documento."
      ]
    },
    {
      "cell_type": "code",
      "execution_count": 11,
      "id": "5boGpFHrfeKD",
      "metadata": {
        "colab": {
          "base_uri": "https://localhost:8080/"
        },
        "id": "5boGpFHrfeKD",
        "outputId": "114760d4-4c90-4aa6-e9ff-59cddab86ee2"
      },
      "outputs": [
        {
          "name": "stdout",
          "output_type": "stream",
          "text": [
            "\n",
            "Matriz TF-IDF creada con forma: (500, 117)\n"
          ]
        }
      ],
      "source": [
        "tfidf_matrix = tf_matrix * idf\n",
        "\n",
        "print(\"\\nMatriz TF-IDF creada con forma:\", tfidf_matrix.shape)"
      ]
    },
    {
      "cell_type": "markdown",
      "id": "Ypgm6drfgX2z",
      "metadata": {
        "id": "Ypgm6drfgX2z"
      },
      "source": [
        "### 7. Resultados\n",
        "Mostramos las primeras filas y columnas de la matriz TF-IDF en formato tabular.\n"
      ]
    },
    {
      "cell_type": "code",
      "execution_count": 12,
      "id": "2__b9wl6gaR5",
      "metadata": {
        "colab": {
          "base_uri": "https://localhost:8080/",
          "height": 241
        },
        "id": "2__b9wl6gaR5",
        "outputId": "9536c36c-1b69-477d-9871-7dd89a1c57ac"
      },
      "outputs": [
        {
          "name": "stdout",
          "output_type": "stream",
          "text": [
            "\n",
            "Vista parcial de la matriz TF-IDF:\n"
          ]
        },
        {
          "data": {
            "application/vnd.google.colaboratory.intrinsic+json": {
              "summary": "{\n  \"name\": \"display(df_tfidf\",\n  \"rows\": 5,\n  \"fields\": [\n    {\n      \"column\": \"a\",\n      \"properties\": {\n        \"dtype\": \"number\",\n        \"std\": 0.0,\n        \"min\": 0.0,\n        \"max\": 0.0,\n        \"num_unique_values\": 1,\n        \"samples\": [\n          0.0\n        ],\n        \"semantic_type\": \"\",\n        \"description\": \"\"\n      }\n    },\n    {\n      \"column\": \"agua\",\n      \"properties\": {\n        \"dtype\": \"number\",\n        \"std\": 0.0,\n        \"min\": 0.0,\n        \"max\": 0.0,\n        \"num_unique_values\": 1,\n        \"samples\": [\n          0.0\n        ],\n        \"semantic_type\": \"\",\n        \"description\": \"\"\n      }\n    },\n    {\n      \"column\": \"amazon\\u00eda\",\n      \"properties\": {\n        \"dtype\": \"number\",\n        \"std\": 0.0,\n        \"min\": 0.0,\n        \"max\": 0.0,\n        \"num_unique_values\": 1,\n        \"samples\": [\n          0.0\n        ],\n        \"semantic_type\": \"\",\n        \"description\": \"\"\n      }\n    },\n    {\n      \"column\": \"arquitectura\",\n      \"properties\": {\n        \"dtype\": \"number\",\n        \"std\": 0.0,\n        \"min\": 0.0,\n        \"max\": 0.0,\n        \"num_unique_values\": 1,\n        \"samples\": [\n          0.0\n        ],\n        \"semantic_type\": \"\",\n        \"description\": \"\"\n      }\n    },\n    {\n      \"column\": \"artesan\\u00eda\",\n      \"properties\": {\n        \"dtype\": \"number\",\n        \"std\": 0.969331482362757,\n        \"min\": 0.0,\n        \"max\": 2.1674910872937634,\n        \"num_unique_values\": 2,\n        \"samples\": [\n          0.0\n        ],\n        \"semantic_type\": \"\",\n        \"description\": \"\"\n      }\n    },\n    {\n      \"column\": \"atrae\",\n      \"properties\": {\n        \"dtype\": \"number\",\n        \"std\": 1.0070409288324111,\n        \"min\": 0.0,\n        \"max\": 2.2518119729937993,\n        \"num_unique_values\": 2,\n        \"samples\": [\n          2.2518119729937993\n        ],\n        \"semantic_type\": \"\",\n        \"description\": \"\"\n      }\n    },\n    {\n      \"column\": \"atraen\",\n      \"properties\": {\n        \"dtype\": \"number\",\n        \"std\": 0.0,\n        \"min\": 0.0,\n        \"max\": 0.0,\n        \"num_unique_values\": 1,\n        \"samples\": [\n          0.0\n        ],\n        \"semantic_type\": \"\",\n        \"description\": \"\"\n      }\n    },\n    {\n      \"column\": \"aut\\u00e9ntico\",\n      \"properties\": {\n        \"dtype\": \"number\",\n        \"std\": 0.0,\n        \"min\": 0.0,\n        \"max\": 0.0,\n        \"num_unique_values\": 1,\n        \"samples\": [\n          0.0\n        ],\n        \"semantic_type\": \"\",\n        \"description\": \"\"\n      }\n    },\n    {\n      \"column\": \"aventura\",\n      \"properties\": {\n        \"dtype\": \"number\",\n        \"std\": 0.0,\n        \"min\": 0.0,\n        \"max\": 0.0,\n        \"num_unique_values\": 1,\n        \"samples\": [\n          0.0\n        ],\n        \"semantic_type\": \"\",\n        \"description\": \"\"\n      }\n    },\n    {\n      \"column\": \"aves\",\n      \"properties\": {\n        \"dtype\": \"number\",\n        \"std\": 0.0,\n        \"min\": 0.0,\n        \"max\": 0.0,\n        \"num_unique_values\": 1,\n        \"samples\": [\n          0.0\n        ],\n        \"semantic_type\": \"\",\n        \"description\": \"\"\n      }\n    }\n  ]\n}",
              "type": "dataframe"
            },
            "text/html": [
              "\n",
              "  <div id=\"df-14178180-8cdc-467e-889a-6169aa32ba57\" class=\"colab-df-container\">\n",
              "    <div>\n",
              "<style scoped>\n",
              "    .dataframe tbody tr th:only-of-type {\n",
              "        vertical-align: middle;\n",
              "    }\n",
              "\n",
              "    .dataframe tbody tr th {\n",
              "        vertical-align: top;\n",
              "    }\n",
              "\n",
              "    .dataframe thead th {\n",
              "        text-align: right;\n",
              "    }\n",
              "</style>\n",
              "<table border=\"1\" class=\"dataframe\">\n",
              "  <thead>\n",
              "    <tr style=\"text-align: right;\">\n",
              "      <th></th>\n",
              "      <th>a</th>\n",
              "      <th>agua</th>\n",
              "      <th>amazonía</th>\n",
              "      <th>arquitectura</th>\n",
              "      <th>artesanía</th>\n",
              "      <th>atrae</th>\n",
              "      <th>atraen</th>\n",
              "      <th>auténtico</th>\n",
              "      <th>aventura</th>\n",
              "      <th>aves</th>\n",
              "    </tr>\n",
              "  </thead>\n",
              "  <tbody>\n",
              "    <tr>\n",
              "      <th>0</th>\n",
              "      <td>0.0</td>\n",
              "      <td>0.0</td>\n",
              "      <td>0.0</td>\n",
              "      <td>0.0</td>\n",
              "      <td>2.167491</td>\n",
              "      <td>0.000000</td>\n",
              "      <td>0.0</td>\n",
              "      <td>0.0</td>\n",
              "      <td>0.0</td>\n",
              "      <td>0.0</td>\n",
              "    </tr>\n",
              "    <tr>\n",
              "      <th>1</th>\n",
              "      <td>0.0</td>\n",
              "      <td>0.0</td>\n",
              "      <td>0.0</td>\n",
              "      <td>0.0</td>\n",
              "      <td>0.000000</td>\n",
              "      <td>0.000000</td>\n",
              "      <td>0.0</td>\n",
              "      <td>0.0</td>\n",
              "      <td>0.0</td>\n",
              "      <td>0.0</td>\n",
              "    </tr>\n",
              "    <tr>\n",
              "      <th>2</th>\n",
              "      <td>0.0</td>\n",
              "      <td>0.0</td>\n",
              "      <td>0.0</td>\n",
              "      <td>0.0</td>\n",
              "      <td>0.000000</td>\n",
              "      <td>2.251812</td>\n",
              "      <td>0.0</td>\n",
              "      <td>0.0</td>\n",
              "      <td>0.0</td>\n",
              "      <td>0.0</td>\n",
              "    </tr>\n",
              "    <tr>\n",
              "      <th>3</th>\n",
              "      <td>0.0</td>\n",
              "      <td>0.0</td>\n",
              "      <td>0.0</td>\n",
              "      <td>0.0</td>\n",
              "      <td>0.000000</td>\n",
              "      <td>0.000000</td>\n",
              "      <td>0.0</td>\n",
              "      <td>0.0</td>\n",
              "      <td>0.0</td>\n",
              "      <td>0.0</td>\n",
              "    </tr>\n",
              "    <tr>\n",
              "      <th>4</th>\n",
              "      <td>0.0</td>\n",
              "      <td>0.0</td>\n",
              "      <td>0.0</td>\n",
              "      <td>0.0</td>\n",
              "      <td>0.000000</td>\n",
              "      <td>0.000000</td>\n",
              "      <td>0.0</td>\n",
              "      <td>0.0</td>\n",
              "      <td>0.0</td>\n",
              "      <td>0.0</td>\n",
              "    </tr>\n",
              "  </tbody>\n",
              "</table>\n",
              "</div>\n",
              "    <div class=\"colab-df-buttons\">\n",
              "\n",
              "  <div class=\"colab-df-container\">\n",
              "    <button class=\"colab-df-convert\" onclick=\"convertToInteractive('df-14178180-8cdc-467e-889a-6169aa32ba57')\"\n",
              "            title=\"Convert this dataframe to an interactive table.\"\n",
              "            style=\"display:none;\">\n",
              "\n",
              "  <svg xmlns=\"http://www.w3.org/2000/svg\" height=\"24px\" viewBox=\"0 -960 960 960\">\n",
              "    <path d=\"M120-120v-720h720v720H120Zm60-500h600v-160H180v160Zm220 220h160v-160H400v160Zm0 220h160v-160H400v160ZM180-400h160v-160H180v160Zm440 0h160v-160H620v160ZM180-180h160v-160H180v160Zm440 0h160v-160H620v160Z\"/>\n",
              "  </svg>\n",
              "    </button>\n",
              "\n",
              "  <style>\n",
              "    .colab-df-container {\n",
              "      display:flex;\n",
              "      gap: 12px;\n",
              "    }\n",
              "\n",
              "    .colab-df-convert {\n",
              "      background-color: #E8F0FE;\n",
              "      border: none;\n",
              "      border-radius: 50%;\n",
              "      cursor: pointer;\n",
              "      display: none;\n",
              "      fill: #1967D2;\n",
              "      height: 32px;\n",
              "      padding: 0 0 0 0;\n",
              "      width: 32px;\n",
              "    }\n",
              "\n",
              "    .colab-df-convert:hover {\n",
              "      background-color: #E2EBFA;\n",
              "      box-shadow: 0px 1px 2px rgba(60, 64, 67, 0.3), 0px 1px 3px 1px rgba(60, 64, 67, 0.15);\n",
              "      fill: #174EA6;\n",
              "    }\n",
              "\n",
              "    .colab-df-buttons div {\n",
              "      margin-bottom: 4px;\n",
              "    }\n",
              "\n",
              "    [theme=dark] .colab-df-convert {\n",
              "      background-color: #3B4455;\n",
              "      fill: #D2E3FC;\n",
              "    }\n",
              "\n",
              "    [theme=dark] .colab-df-convert:hover {\n",
              "      background-color: #434B5C;\n",
              "      box-shadow: 0px 1px 3px 1px rgba(0, 0, 0, 0.15);\n",
              "      filter: drop-shadow(0px 1px 2px rgba(0, 0, 0, 0.3));\n",
              "      fill: #FFFFFF;\n",
              "    }\n",
              "  </style>\n",
              "\n",
              "    <script>\n",
              "      const buttonEl =\n",
              "        document.querySelector('#df-14178180-8cdc-467e-889a-6169aa32ba57 button.colab-df-convert');\n",
              "      buttonEl.style.display =\n",
              "        google.colab.kernel.accessAllowed ? 'block' : 'none';\n",
              "\n",
              "      async function convertToInteractive(key) {\n",
              "        const element = document.querySelector('#df-14178180-8cdc-467e-889a-6169aa32ba57');\n",
              "        const dataTable =\n",
              "          await google.colab.kernel.invokeFunction('convertToInteractive',\n",
              "                                                    [key], {});\n",
              "        if (!dataTable) return;\n",
              "\n",
              "        const docLinkHtml = 'Like what you see? Visit the ' +\n",
              "          '<a target=\"_blank\" href=https://colab.research.google.com/notebooks/data_table.ipynb>data table notebook</a>'\n",
              "          + ' to learn more about interactive tables.';\n",
              "        element.innerHTML = '';\n",
              "        dataTable['output_type'] = 'display_data';\n",
              "        await google.colab.output.renderOutput(dataTable, element);\n",
              "        const docLink = document.createElement('div');\n",
              "        docLink.innerHTML = docLinkHtml;\n",
              "        element.appendChild(docLink);\n",
              "      }\n",
              "    </script>\n",
              "  </div>\n",
              "\n",
              "\n",
              "    <div id=\"df-ef7aa027-22b2-4bf7-8aa3-9e42745c9c53\">\n",
              "      <button class=\"colab-df-quickchart\" onclick=\"quickchart('df-ef7aa027-22b2-4bf7-8aa3-9e42745c9c53')\"\n",
              "                title=\"Suggest charts\"\n",
              "                style=\"display:none;\">\n",
              "\n",
              "<svg xmlns=\"http://www.w3.org/2000/svg\" height=\"24px\"viewBox=\"0 0 24 24\"\n",
              "     width=\"24px\">\n",
              "    <g>\n",
              "        <path d=\"M19 3H5c-1.1 0-2 .9-2 2v14c0 1.1.9 2 2 2h14c1.1 0 2-.9 2-2V5c0-1.1-.9-2-2-2zM9 17H7v-7h2v7zm4 0h-2V7h2v10zm4 0h-2v-4h2v4z\"/>\n",
              "    </g>\n",
              "</svg>\n",
              "      </button>\n",
              "\n",
              "<style>\n",
              "  .colab-df-quickchart {\n",
              "      --bg-color: #E8F0FE;\n",
              "      --fill-color: #1967D2;\n",
              "      --hover-bg-color: #E2EBFA;\n",
              "      --hover-fill-color: #174EA6;\n",
              "      --disabled-fill-color: #AAA;\n",
              "      --disabled-bg-color: #DDD;\n",
              "  }\n",
              "\n",
              "  [theme=dark] .colab-df-quickchart {\n",
              "      --bg-color: #3B4455;\n",
              "      --fill-color: #D2E3FC;\n",
              "      --hover-bg-color: #434B5C;\n",
              "      --hover-fill-color: #FFFFFF;\n",
              "      --disabled-bg-color: #3B4455;\n",
              "      --disabled-fill-color: #666;\n",
              "  }\n",
              "\n",
              "  .colab-df-quickchart {\n",
              "    background-color: var(--bg-color);\n",
              "    border: none;\n",
              "    border-radius: 50%;\n",
              "    cursor: pointer;\n",
              "    display: none;\n",
              "    fill: var(--fill-color);\n",
              "    height: 32px;\n",
              "    padding: 0;\n",
              "    width: 32px;\n",
              "  }\n",
              "\n",
              "  .colab-df-quickchart:hover {\n",
              "    background-color: var(--hover-bg-color);\n",
              "    box-shadow: 0 1px 2px rgba(60, 64, 67, 0.3), 0 1px 3px 1px rgba(60, 64, 67, 0.15);\n",
              "    fill: var(--button-hover-fill-color);\n",
              "  }\n",
              "\n",
              "  .colab-df-quickchart-complete:disabled,\n",
              "  .colab-df-quickchart-complete:disabled:hover {\n",
              "    background-color: var(--disabled-bg-color);\n",
              "    fill: var(--disabled-fill-color);\n",
              "    box-shadow: none;\n",
              "  }\n",
              "\n",
              "  .colab-df-spinner {\n",
              "    border: 2px solid var(--fill-color);\n",
              "    border-color: transparent;\n",
              "    border-bottom-color: var(--fill-color);\n",
              "    animation:\n",
              "      spin 1s steps(1) infinite;\n",
              "  }\n",
              "\n",
              "  @keyframes spin {\n",
              "    0% {\n",
              "      border-color: transparent;\n",
              "      border-bottom-color: var(--fill-color);\n",
              "      border-left-color: var(--fill-color);\n",
              "    }\n",
              "    20% {\n",
              "      border-color: transparent;\n",
              "      border-left-color: var(--fill-color);\n",
              "      border-top-color: var(--fill-color);\n",
              "    }\n",
              "    30% {\n",
              "      border-color: transparent;\n",
              "      border-left-color: var(--fill-color);\n",
              "      border-top-color: var(--fill-color);\n",
              "      border-right-color: var(--fill-color);\n",
              "    }\n",
              "    40% {\n",
              "      border-color: transparent;\n",
              "      border-right-color: var(--fill-color);\n",
              "      border-top-color: var(--fill-color);\n",
              "    }\n",
              "    60% {\n",
              "      border-color: transparent;\n",
              "      border-right-color: var(--fill-color);\n",
              "    }\n",
              "    80% {\n",
              "      border-color: transparent;\n",
              "      border-right-color: var(--fill-color);\n",
              "      border-bottom-color: var(--fill-color);\n",
              "    }\n",
              "    90% {\n",
              "      border-color: transparent;\n",
              "      border-bottom-color: var(--fill-color);\n",
              "    }\n",
              "  }\n",
              "</style>\n",
              "\n",
              "      <script>\n",
              "        async function quickchart(key) {\n",
              "          const quickchartButtonEl =\n",
              "            document.querySelector('#' + key + ' button');\n",
              "          quickchartButtonEl.disabled = true;  // To prevent multiple clicks.\n",
              "          quickchartButtonEl.classList.add('colab-df-spinner');\n",
              "          try {\n",
              "            const charts = await google.colab.kernel.invokeFunction(\n",
              "                'suggestCharts', [key], {});\n",
              "          } catch (error) {\n",
              "            console.error('Error during call to suggestCharts:', error);\n",
              "          }\n",
              "          quickchartButtonEl.classList.remove('colab-df-spinner');\n",
              "          quickchartButtonEl.classList.add('colab-df-quickchart-complete');\n",
              "        }\n",
              "        (() => {\n",
              "          let quickchartButtonEl =\n",
              "            document.querySelector('#df-ef7aa027-22b2-4bf7-8aa3-9e42745c9c53 button');\n",
              "          quickchartButtonEl.style.display =\n",
              "            google.colab.kernel.accessAllowed ? 'block' : 'none';\n",
              "        })();\n",
              "      </script>\n",
              "    </div>\n",
              "\n",
              "    </div>\n",
              "  </div>\n"
            ],
            "text/plain": [
              "     a  agua  amazonía  arquitectura  artesanía     atrae  atraen  auténtico  \\\n",
              "0  0.0   0.0       0.0           0.0   2.167491  0.000000     0.0        0.0   \n",
              "1  0.0   0.0       0.0           0.0   0.000000  0.000000     0.0        0.0   \n",
              "2  0.0   0.0       0.0           0.0   0.000000  2.251812     0.0        0.0   \n",
              "3  0.0   0.0       0.0           0.0   0.000000  0.000000     0.0        0.0   \n",
              "4  0.0   0.0       0.0           0.0   0.000000  0.000000     0.0        0.0   \n",
              "\n",
              "   aventura  aves  \n",
              "0       0.0   0.0  \n",
              "1       0.0   0.0  \n",
              "2       0.0   0.0  \n",
              "3       0.0   0.0  \n",
              "4       0.0   0.0  "
            ]
          },
          "metadata": {},
          "output_type": "display_data"
        }
      ],
      "source": [
        "import pandas as pd\n",
        "\n",
        "df_tfidf = pd.DataFrame(tfidf_matrix, columns=diccionario)\n",
        "print(\"\\nVista parcial de la matriz TF-IDF:\")\n",
        "display(df_tfidf.iloc[:5, :10])"
      ]
    },
    {
      "cell_type": "markdown",
      "id": "xGDDUmdygq0g",
      "metadata": {
        "id": "xGDDUmdygq0g"
      },
      "source": [
        "## Conclusión\n",
        "En esta práctica se construyó manualmente la matriz TF-IDF a partir de un corpus real.\n",
        "Se aplicaron los conceptos del modelo vectorial para representar documentos como vectores de pesos.\n",
        "Cada peso refleja la relevancia de un término en un documento considerando su frecuencia y su rareza global."
      ]
    }
  ],
  "metadata": {
    "colab": {
      "provenance": []
    },
    "kernelspec": {
      "display_name": "Python 3",
      "language": "python",
      "name": "python3"
    },
    "language_info": {
      "codemirror_mode": {
        "name": "ipython",
        "version": 2
      },
      "file_extension": ".py",
      "mimetype": "text/x-python",
      "name": "python",
      "nbconvert_exporter": "python",
      "pygments_lexer": "ipython2",
      "version": "2.7.6"
    }
  },
  "nbformat": 4,
  "nbformat_minor": 5
}
